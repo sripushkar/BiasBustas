{
 "cells": [
  {
   "cell_type": "code",
   "execution_count": 25,
   "metadata": {},
   "outputs": [],
   "source": [
    "#!/usr/bin/env python\n",
    "\n",
    "import pandas as pd\n",
    "import numpy as np\n",
    "import random\n",
    "\n",
    "p=0.4\n",
    "df1 = pd.read_csv(\"articles.csv\")\n",
    "df2 = pd.read_csv(\"articles2.csv\")\n",
    "df3 = pd.read_csv(\"articles3.csv\")\n",
    "\n",
    "combined = [df1, df2, df3]\n",
    "\n",
    "result = pd.concat(combined)\n",
    "\n",
    "\n",
    "\n"
   ]
  },
  {
   "cell_type": "code",
   "execution_count": 26,
   "metadata": {},
   "outputs": [
    {
     "data": {
      "text/html": [
       "<div>\n",
       "<style scoped>\n",
       "    .dataframe tbody tr th:only-of-type {\n",
       "        vertical-align: middle;\n",
       "    }\n",
       "\n",
       "    .dataframe tbody tr th {\n",
       "        vertical-align: top;\n",
       "    }\n",
       "\n",
       "    .dataframe thead th {\n",
       "        text-align: right;\n",
       "    }\n",
       "</style>\n",
       "<table border=\"1\" class=\"dataframe\">\n",
       "  <thead>\n",
       "    <tr style=\"text-align: right;\">\n",
       "      <th></th>\n",
       "      <th>Unnamed: 0</th>\n",
       "      <th>id</th>\n",
       "      <th>title</th>\n",
       "      <th>publication</th>\n",
       "      <th>author</th>\n",
       "      <th>date</th>\n",
       "      <th>year</th>\n",
       "      <th>month</th>\n",
       "      <th>url</th>\n",
       "      <th>content</th>\n",
       "    </tr>\n",
       "  </thead>\n",
       "  <tbody>\n",
       "    <tr>\n",
       "      <th>31375</th>\n",
       "      <td>134837</td>\n",
       "      <td>203831</td>\n",
       "      <td>What it’s like to be a professional Santa Claus</td>\n",
       "      <td>Vox</td>\n",
       "      <td>Zachary Crockett</td>\n",
       "      <td>2016/12/21</td>\n",
       "      <td>2016.0</td>\n",
       "      <td>12.0</td>\n",
       "      <td>http://www.vox.com/culture/2016/12/21/13922730...</td>\n",
       "      <td>Brian Marchetti has arrived at    and the fir...</td>\n",
       "    </tr>\n",
       "    <tr>\n",
       "      <th>2269</th>\n",
       "      <td>2269</td>\n",
       "      <td>19817</td>\n",
       "      <td>Trump Tries to Deflect Russia Scrutiny, Citing...</td>\n",
       "      <td>New York Times</td>\n",
       "      <td>Peter Baker and Matthew Rosenberg</td>\n",
       "      <td>2017-04-04</td>\n",
       "      <td>2017.0</td>\n",
       "      <td>4.0</td>\n",
       "      <td>NaN</td>\n",
       "      <td>WASHINGTON  —   President Trump sought to turn...</td>\n",
       "    </tr>\n",
       "    <tr>\n",
       "      <th>29866</th>\n",
       "      <td>133328</td>\n",
       "      <td>201057</td>\n",
       "      <td>Speaking in Canada, Obama defends his economic...</td>\n",
       "      <td>Vox</td>\n",
       "      <td>Matthew Yglesias</td>\n",
       "      <td>2016/6/30</td>\n",
       "      <td>2016.0</td>\n",
       "      <td>6.0</td>\n",
       "      <td>http://www.vox.com/2016/6/30/12064918/obama-ca...</td>\n",
       "      <td>Speaking to the Canadian Parliament in Ottawa...</td>\n",
       "    </tr>\n",
       "    <tr>\n",
       "      <th>36164</th>\n",
       "      <td>89623</td>\n",
       "      <td>133554</td>\n",
       "      <td>Bikini model proves lifting weights is better ...</td>\n",
       "      <td>New York Post</td>\n",
       "      <td>Michelle Gant</td>\n",
       "      <td>2017-06-28</td>\n",
       "      <td>2017.0</td>\n",
       "      <td>6.0</td>\n",
       "      <td>https://web.archive.org/web/20170629011942/htt...</td>\n",
       "      <td>Good news for anyone who hates the treadmill. ...</td>\n",
       "    </tr>\n",
       "    <tr>\n",
       "      <th>33085</th>\n",
       "      <td>33353</td>\n",
       "      <td>52166</td>\n",
       "      <td>Suspected chemical attack in Mosul, Red Cross ...</td>\n",
       "      <td>CNN</td>\n",
       "      <td>NaN</td>\n",
       "      <td>2017-03-04</td>\n",
       "      <td>2017.0</td>\n",
       "      <td>3.0</td>\n",
       "      <td>NaN</td>\n",
       "      <td>Irbil, Iraq (CNN) Twelve residents of the   Ir...</td>\n",
       "    </tr>\n",
       "  </tbody>\n",
       "</table>\n",
       "</div>"
      ],
      "text/plain": [
       "       Unnamed: 0      id                                              title  \\\n",
       "31375      134837  203831    What it’s like to be a professional Santa Claus   \n",
       "2269         2269   19817  Trump Tries to Deflect Russia Scrutiny, Citing...   \n",
       "29866      133328  201057  Speaking in Canada, Obama defends his economic...   \n",
       "36164       89623  133554  Bikini model proves lifting weights is better ...   \n",
       "33085       33353   52166  Suspected chemical attack in Mosul, Red Cross ...   \n",
       "\n",
       "          publication                             author        date    year  \\\n",
       "31375             Vox                   Zachary Crockett  2016/12/21  2016.0   \n",
       "2269   New York Times  Peter Baker and Matthew Rosenberg  2017-04-04  2017.0   \n",
       "29866             Vox                   Matthew Yglesias   2016/6/30  2016.0   \n",
       "36164   New York Post                      Michelle Gant  2017-06-28  2017.0   \n",
       "33085             CNN                                NaN  2017-03-04  2017.0   \n",
       "\n",
       "       month                                                url  \\\n",
       "31375   12.0  http://www.vox.com/culture/2016/12/21/13922730...   \n",
       "2269     4.0                                                NaN   \n",
       "29866    6.0  http://www.vox.com/2016/6/30/12064918/obama-ca...   \n",
       "36164    6.0  https://web.archive.org/web/20170629011942/htt...   \n",
       "33085    3.0                                                NaN   \n",
       "\n",
       "                                                 content  \n",
       "31375   Brian Marchetti has arrived at    and the fir...  \n",
       "2269   WASHINGTON  —   President Trump sought to turn...  \n",
       "29866   Speaking to the Canadian Parliament in Ottawa...  \n",
       "36164  Good news for anyone who hates the treadmill. ...  \n",
       "33085  Irbil, Iraq (CNN) Twelve residents of the   Ir...  "
      ]
     },
     "execution_count": 26,
     "metadata": {},
     "output_type": "execute_result"
    }
   ],
   "source": [
    "cutdown = result.sample(frac = 0.13)\n",
    "cutdown.head()"
   ]
  },
  {
   "cell_type": "code",
   "execution_count": 27,
   "metadata": {},
   "outputs": [
    {
     "name": "stdout",
     "output_type": "stream",
     "text": [
      "(18534, 10)\n",
      "(18534, 3)\n"
     ]
    },
    {
     "data": {
      "text/plain": [
       "array(['Vox', 'New York Times', 'New York Post', 'CNN', 'Guardian',\n",
       "       'Business Insider', 'Reuters', 'NPR', 'Washington Post',\n",
       "       'National Review', 'Fox News', 'Buzzfeed News', 'Breitbart',\n",
       "       'Talking Points Memo', 'Atlantic'], dtype=object)"
      ]
     },
     "execution_count": 27,
     "metadata": {},
     "output_type": "execute_result"
    }
   ],
   "source": [
    "print(cutdown.shape)\n",
    "cutdownMore = cutdown[['title', 'publication', 'content']]\n",
    "cutdownMore.head()\n",
    "print(cutdownMore.shape)\n",
    "\n",
    "cutdownMore.publication.unique()"
   ]
  },
  {
   "cell_type": "code",
   "execution_count": 28,
   "metadata": {},
   "outputs": [
    {
     "name": "stderr",
     "output_type": "stream",
     "text": [
      "C:\\Users\\achen\\AppData\\Local\\Temp\\ipykernel_26100\\1001446617.py:13: SettingWithCopyWarning: \n",
      "A value is trying to be set on a copy of a slice from a DataFrame.\n",
      "Try using .loc[row_indexer,col_indexer] = value instead\n",
      "\n",
      "See the caveats in the documentation: https://pandas.pydata.org/pandas-docs/stable/user_guide/indexing.html#returning-a-view-versus-a-copy\n",
      "  cutdownMore['Bias'] = biasCounts\n"
     ]
    }
   ],
   "source": [
    "# LEFT MOST 1 2 3 4 5 RIGHT MOST\n",
    "biasDict = {'New York Times': 2 , 'Fox News' : 4, 'Washington Post':3, 'CNN':1,\n",
    "       'Breitbart':5, 'Talking Points Memo':2, 'NPR':3, 'National Review':4,\n",
    "       'Reuters':3, 'Vox':5, 'Business Insider':2, 'New York Post':5,\n",
    "       'Buzzfeed News':1, 'Atlantic':2, 'Guardian':2}\n",
    "# cutdownMore['Bias Amount'] = biasDict.get(cutdownMore['publication'])\n",
    "\n",
    "biasCounts = []\n",
    "\n",
    "for i in cutdownMore[\"publication\"]:\n",
    "    biasCounts.append(biasDict.get(i))\n",
    "\n",
    "cutdownMore['Bias'] = biasCounts"
   ]
  },
  {
   "cell_type": "code",
   "execution_count": 29,
   "metadata": {},
   "outputs": [
    {
     "name": "stdout",
     "output_type": "stream",
     "text": [
      "(18534, 4)\n",
      "       Bias                                              title  \\\n",
      "31375     5    What it’s like to be a professional Santa Claus   \n",
      "2269      2  Trump Tries to Deflect Russia Scrutiny, Citing...   \n",
      "29866     5  Speaking in Canada, Obama defends his economic...   \n",
      "36164     5  Bikini model proves lifting weights is better ...   \n",
      "33085     1  Suspected chemical attack in Mosul, Red Cross ...   \n",
      "...     ...                                                ...   \n",
      "18464     5  Buchanan: Attacking Trump for ’Short Run’ Gain...   \n",
      "6488      2  What’s Really Going On in North Carolina’s Gub...   \n",
      "19762     5  Multiculturalism And Failed Integration Fuels ...   \n",
      "18338     3  Trump’s message to bankers: Wall Street reform...   \n",
      "10624     4  Christ’s tomb uncovered: This is what experts ...   \n",
      "\n",
      "          publication                                            content  \n",
      "31375             Vox   Brian Marchetti has arrived at    and the fir...  \n",
      "2269   New York Times  WASHINGTON  —   President Trump sought to turn...  \n",
      "29866             Vox   Speaking to the Canadian Parliament in Ottawa...  \n",
      "36164   New York Post  Good news for anyone who hates the treadmill. ...  \n",
      "33085             CNN  Irbil, Iraq (CNN) Twelve residents of the   Ir...  \n",
      "...               ...                                                ...  \n",
      "18464       Breitbart  Wednesday on the Fox News Channel, conservativ...  \n",
      "6488         Atlantic  DURHAM, N. C. —  It’s been two weeks since Ele...  \n",
      "19762       Breitbart  That Multicultural policies and a lack of inte...  \n",
      "18338         Reuters   President Donald Trump told a group of chief ...  \n",
      "10624        Fox News  The tomb is a limestone shelf or burial bed he...  \n",
      "\n",
      "[18534 rows x 4 columns]\n"
     ]
    }
   ],
   "source": [
    "\n",
    "columns_titles = ['Bias','title', 'publication', 'content']\n",
    "cutdownMore=cutdownMore.reindex(columns=columns_titles)\n",
    "\n",
    "cutdownMore[cutdownMore['Bias'].apply(lambda x: str(x).isdigit())]\n",
    "\n",
    "print(cutdownMore.shape)\n",
    "\n",
    "print(cutdownMore)\n",
    "\n"
   ]
  },
  {
   "cell_type": "code",
   "execution_count": 30,
   "metadata": {},
   "outputs": [
    {
     "ename": "KeyError",
     "evalue": "'Content'",
     "output_type": "error",
     "traceback": [
      "\u001b[1;31m---------------------------------------------------------------------------\u001b[0m",
      "\u001b[1;31mKeyError\u001b[0m                                  Traceback (most recent call last)",
      "File \u001b[1;32mc:\\Users\\achen\\anaconda3\\envs\\codeDay2022\\lib\\site-packages\\pandas\\core\\indexes\\base.py:3621\u001b[0m, in \u001b[0;36mIndex.get_loc\u001b[1;34m(self, key, method, tolerance)\u001b[0m\n\u001b[0;32m   <a href='file:///c%3A/Users/achen/anaconda3/envs/codeDay2022/lib/site-packages/pandas/core/indexes/base.py?line=3619'>3620</a>\u001b[0m \u001b[39mtry\u001b[39;00m:\n\u001b[1;32m-> <a href='file:///c%3A/Users/achen/anaconda3/envs/codeDay2022/lib/site-packages/pandas/core/indexes/base.py?line=3620'>3621</a>\u001b[0m     \u001b[39mreturn\u001b[39;00m \u001b[39mself\u001b[39;49m\u001b[39m.\u001b[39;49m_engine\u001b[39m.\u001b[39;49mget_loc(casted_key)\n\u001b[0;32m   <a href='file:///c%3A/Users/achen/anaconda3/envs/codeDay2022/lib/site-packages/pandas/core/indexes/base.py?line=3621'>3622</a>\u001b[0m \u001b[39mexcept\u001b[39;00m \u001b[39mKeyError\u001b[39;00m \u001b[39mas\u001b[39;00m err:\n",
      "File \u001b[1;32mc:\\Users\\achen\\anaconda3\\envs\\codeDay2022\\lib\\site-packages\\pandas\\_libs\\index.pyx:136\u001b[0m, in \u001b[0;36mpandas._libs.index.IndexEngine.get_loc\u001b[1;34m()\u001b[0m\n",
      "File \u001b[1;32mc:\\Users\\achen\\anaconda3\\envs\\codeDay2022\\lib\\site-packages\\pandas\\_libs\\index.pyx:163\u001b[0m, in \u001b[0;36mpandas._libs.index.IndexEngine.get_loc\u001b[1;34m()\u001b[0m\n",
      "File \u001b[1;32mpandas\\_libs\\hashtable_class_helper.pxi:5198\u001b[0m, in \u001b[0;36mpandas._libs.hashtable.PyObjectHashTable.get_item\u001b[1;34m()\u001b[0m\n",
      "File \u001b[1;32mpandas\\_libs\\hashtable_class_helper.pxi:5206\u001b[0m, in \u001b[0;36mpandas._libs.hashtable.PyObjectHashTable.get_item\u001b[1;34m()\u001b[0m\n",
      "\u001b[1;31mKeyError\u001b[0m: 'Content'",
      "\nThe above exception was the direct cause of the following exception:\n",
      "\u001b[1;31mKeyError\u001b[0m                                  Traceback (most recent call last)",
      "\u001b[1;32mc:\\Users\\achen\\Documents\\GitHub\\BiasBustas\\DataGathering\\biasDecider.ipynb Cell 6'\u001b[0m in \u001b[0;36m<cell line: 2>\u001b[1;34m()\u001b[0m\n\u001b[0;32m      <a href='vscode-notebook-cell:/c%3A/Users/achen/Documents/GitHub/BiasBustas/DataGathering/biasDecider.ipynb#ch0000005?line=0'>1</a>\u001b[0m \u001b[39m# cutdownMore.to_csv(\"filteredDataTrial2.csv\", header = False, index = False)\u001b[39;00m\n\u001b[1;32m----> <a href='vscode-notebook-cell:/c%3A/Users/achen/Documents/GitHub/BiasBustas/DataGathering/biasDecider.ipynb#ch0000005?line=1'>2</a>\u001b[0m cutdownMore[cutdownMore[\u001b[39m'\u001b[39;49m\u001b[39mContent\u001b[39;49m\u001b[39m'\u001b[39;49m]\u001b[39m.\u001b[39mapply(\u001b[39mlambda\u001b[39;00m x: x\u001b[39m.\u001b[39mreplace(\u001b[39m'\u001b[39m\u001b[39m\\n\u001b[39;00m\u001b[39m'\u001b[39m,\u001b[39m'\u001b[39m\u001b[39m'\u001b[39m))]\n",
      "File \u001b[1;32mc:\\Users\\achen\\anaconda3\\envs\\codeDay2022\\lib\\site-packages\\pandas\\core\\frame.py:3505\u001b[0m, in \u001b[0;36mDataFrame.__getitem__\u001b[1;34m(self, key)\u001b[0m\n\u001b[0;32m   <a href='file:///c%3A/Users/achen/anaconda3/envs/codeDay2022/lib/site-packages/pandas/core/frame.py?line=3502'>3503</a>\u001b[0m \u001b[39mif\u001b[39;00m \u001b[39mself\u001b[39m\u001b[39m.\u001b[39mcolumns\u001b[39m.\u001b[39mnlevels \u001b[39m>\u001b[39m \u001b[39m1\u001b[39m:\n\u001b[0;32m   <a href='file:///c%3A/Users/achen/anaconda3/envs/codeDay2022/lib/site-packages/pandas/core/frame.py?line=3503'>3504</a>\u001b[0m     \u001b[39mreturn\u001b[39;00m \u001b[39mself\u001b[39m\u001b[39m.\u001b[39m_getitem_multilevel(key)\n\u001b[1;32m-> <a href='file:///c%3A/Users/achen/anaconda3/envs/codeDay2022/lib/site-packages/pandas/core/frame.py?line=3504'>3505</a>\u001b[0m indexer \u001b[39m=\u001b[39m \u001b[39mself\u001b[39;49m\u001b[39m.\u001b[39;49mcolumns\u001b[39m.\u001b[39;49mget_loc(key)\n\u001b[0;32m   <a href='file:///c%3A/Users/achen/anaconda3/envs/codeDay2022/lib/site-packages/pandas/core/frame.py?line=3505'>3506</a>\u001b[0m \u001b[39mif\u001b[39;00m is_integer(indexer):\n\u001b[0;32m   <a href='file:///c%3A/Users/achen/anaconda3/envs/codeDay2022/lib/site-packages/pandas/core/frame.py?line=3506'>3507</a>\u001b[0m     indexer \u001b[39m=\u001b[39m [indexer]\n",
      "File \u001b[1;32mc:\\Users\\achen\\anaconda3\\envs\\codeDay2022\\lib\\site-packages\\pandas\\core\\indexes\\base.py:3623\u001b[0m, in \u001b[0;36mIndex.get_loc\u001b[1;34m(self, key, method, tolerance)\u001b[0m\n\u001b[0;32m   <a href='file:///c%3A/Users/achen/anaconda3/envs/codeDay2022/lib/site-packages/pandas/core/indexes/base.py?line=3620'>3621</a>\u001b[0m     \u001b[39mreturn\u001b[39;00m \u001b[39mself\u001b[39m\u001b[39m.\u001b[39m_engine\u001b[39m.\u001b[39mget_loc(casted_key)\n\u001b[0;32m   <a href='file:///c%3A/Users/achen/anaconda3/envs/codeDay2022/lib/site-packages/pandas/core/indexes/base.py?line=3621'>3622</a>\u001b[0m \u001b[39mexcept\u001b[39;00m \u001b[39mKeyError\u001b[39;00m \u001b[39mas\u001b[39;00m err:\n\u001b[1;32m-> <a href='file:///c%3A/Users/achen/anaconda3/envs/codeDay2022/lib/site-packages/pandas/core/indexes/base.py?line=3622'>3623</a>\u001b[0m     \u001b[39mraise\u001b[39;00m \u001b[39mKeyError\u001b[39;00m(key) \u001b[39mfrom\u001b[39;00m \u001b[39merr\u001b[39;00m\n\u001b[0;32m   <a href='file:///c%3A/Users/achen/anaconda3/envs/codeDay2022/lib/site-packages/pandas/core/indexes/base.py?line=3623'>3624</a>\u001b[0m \u001b[39mexcept\u001b[39;00m \u001b[39mTypeError\u001b[39;00m:\n\u001b[0;32m   <a href='file:///c%3A/Users/achen/anaconda3/envs/codeDay2022/lib/site-packages/pandas/core/indexes/base.py?line=3624'>3625</a>\u001b[0m     \u001b[39m# If we have a listlike key, _check_indexing_error will raise\u001b[39;00m\n\u001b[0;32m   <a href='file:///c%3A/Users/achen/anaconda3/envs/codeDay2022/lib/site-packages/pandas/core/indexes/base.py?line=3625'>3626</a>\u001b[0m     \u001b[39m#  InvalidIndexError. Otherwise we fall through and re-raise\u001b[39;00m\n\u001b[0;32m   <a href='file:///c%3A/Users/achen/anaconda3/envs/codeDay2022/lib/site-packages/pandas/core/indexes/base.py?line=3626'>3627</a>\u001b[0m     \u001b[39m#  the TypeError.\u001b[39;00m\n\u001b[0;32m   <a href='file:///c%3A/Users/achen/anaconda3/envs/codeDay2022/lib/site-packages/pandas/core/indexes/base.py?line=3627'>3628</a>\u001b[0m     \u001b[39mself\u001b[39m\u001b[39m.\u001b[39m_check_indexing_error(key)\n",
      "\u001b[1;31mKeyError\u001b[0m: 'Content'"
     ]
    }
   ],
   "source": [
    "cutdownMore.to_csv(\"filteredDataTrial2.csv\", header = False, index = True)\n"
   ]
  }
 ],
 "metadata": {
  "interpreter": {
   "hash": "080bab3ba43cee90f328ebcf3c6450611d973b0d938e0021b51ef14fe134596a"
  },
  "kernelspec": {
   "display_name": "Python 3.9.12 ('codeDay2022')",
   "language": "python",
   "name": "python3"
  },
  "language_info": {
   "codemirror_mode": {
    "name": "ipython",
    "version": 3
   },
   "file_extension": ".py",
   "mimetype": "text/x-python",
   "name": "python",
   "nbconvert_exporter": "python",
   "pygments_lexer": "ipython3",
   "version": "3.9.12"
  },
  "orig_nbformat": 4
 },
 "nbformat": 4,
 "nbformat_minor": 2
}
