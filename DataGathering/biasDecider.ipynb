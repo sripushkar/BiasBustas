{
 "cells": [
  {
   "cell_type": "code",
   "execution_count": 1,
   "metadata": {},
   "outputs": [],
   "source": [
    "#!/usr/bin/env python\n",
    "\n",
    "import pandas as pd\n",
    "import numpy as np\n",
    "import random\n",
    "\n",
    "p=0.4\n",
    "df1 = pd.read_csv(\"articles.csv\")\n",
    "df2 = pd.read_csv(\"articles2.csv\")\n",
    "df3 = pd.read_csv(\"articles3.csv\")\n",
    "\n",
    "combined = [df1, df2, df3]\n",
    "\n",
    "result = pd.concat(combined)\n",
    "\n",
    "\n",
    "\n"
   ]
  },
  {
   "cell_type": "code",
   "execution_count": 2,
   "metadata": {},
   "outputs": [
    {
     "data": {
      "text/html": [
       "<div>\n",
       "<style scoped>\n",
       "    .dataframe tbody tr th:only-of-type {\n",
       "        vertical-align: middle;\n",
       "    }\n",
       "\n",
       "    .dataframe tbody tr th {\n",
       "        vertical-align: top;\n",
       "    }\n",
       "\n",
       "    .dataframe thead th {\n",
       "        text-align: right;\n",
       "    }\n",
       "</style>\n",
       "<table border=\"1\" class=\"dataframe\">\n",
       "  <thead>\n",
       "    <tr style=\"text-align: right;\">\n",
       "      <th></th>\n",
       "      <th>Unnamed: 0</th>\n",
       "      <th>id</th>\n",
       "      <th>title</th>\n",
       "      <th>publication</th>\n",
       "      <th>author</th>\n",
       "      <th>date</th>\n",
       "      <th>year</th>\n",
       "      <th>month</th>\n",
       "      <th>url</th>\n",
       "      <th>content</th>\n",
       "    </tr>\n",
       "  </thead>\n",
       "  <tbody>\n",
       "    <tr>\n",
       "      <th>14448</th>\n",
       "      <td>67856</td>\n",
       "      <td>95168</td>\n",
       "      <td>’Nightly Show’ Asks If Sarah Palin Was Drunk D...</td>\n",
       "      <td>Talking Points Memo</td>\n",
       "      <td>NaN</td>\n",
       "      <td>2016-01-21</td>\n",
       "      <td>2016.0</td>\n",
       "      <td>1.0</td>\n",
       "      <td>https://web.archive.org/web/20160122030840/htt...</td>\n",
       "      <td>Host Larry Wilmore asked on Wednesday night’s ...</td>\n",
       "    </tr>\n",
       "    <tr>\n",
       "      <th>25096</th>\n",
       "      <td>78547</td>\n",
       "      <td>119161</td>\n",
       "      <td>NR Answers Rage with Reason and Fear with Courage</td>\n",
       "      <td>National Review</td>\n",
       "      <td>David French</td>\n",
       "      <td>2016-05-10</td>\n",
       "      <td>2016.0</td>\n",
       "      <td>5.0</td>\n",
       "      <td>http://www.nationalreview.com/article/435194/n...</td>\n",
       "      <td>These are the days of fear and rage. Depending...</td>\n",
       "    </tr>\n",
       "    <tr>\n",
       "      <th>24685</th>\n",
       "      <td>24689</td>\n",
       "      <td>43441</td>\n",
       "      <td>Donald Trump’s Team Rolls Out Transition Websi...</td>\n",
       "      <td>Breitbart</td>\n",
       "      <td>Michelle Moons</td>\n",
       "      <td>2016-11-10</td>\n",
       "      <td>2016.0</td>\n",
       "      <td>11.0</td>\n",
       "      <td>NaN</td>\n",
       "      <td>A website and Twitter account have been set up...</td>\n",
       "    </tr>\n",
       "    <tr>\n",
       "      <th>11296</th>\n",
       "      <td>11296</td>\n",
       "      <td>30032</td>\n",
       "      <td>Never Trump Movement Leader, Former Jeb Bush S...</td>\n",
       "      <td>Breitbart</td>\n",
       "      <td>Matthew Boyle</td>\n",
       "      <td>2017-04-25</td>\n",
       "      <td>2017.0</td>\n",
       "      <td>4.0</td>\n",
       "      <td>NaN</td>\n",
       "      <td>A Never Trump movement leader who once blamed ...</td>\n",
       "    </tr>\n",
       "    <tr>\n",
       "      <th>18505</th>\n",
       "      <td>71913</td>\n",
       "      <td>104236</td>\n",
       "      <td>Florida Toddler Killed In Drive-By Shooting</td>\n",
       "      <td>Buzzfeed News</td>\n",
       "      <td>David Mack</td>\n",
       "      <td>2016-01-30</td>\n",
       "      <td>2016.0</td>\n",
       "      <td>1.0</td>\n",
       "      <td>https://web.archive.org/web/20160130202804/htt...</td>\n",
       "      <td>A family friend sent me this picture of Aiden...</td>\n",
       "    </tr>\n",
       "  </tbody>\n",
       "</table>\n",
       "</div>"
      ],
      "text/plain": [
       "       Unnamed: 0      id                                              title  \\\n",
       "14448       67856   95168  ’Nightly Show’ Asks If Sarah Palin Was Drunk D...   \n",
       "25096       78547  119161  NR Answers Rage with Reason and Fear with Courage   \n",
       "24685       24689   43441  Donald Trump’s Team Rolls Out Transition Websi...   \n",
       "11296       11296   30032  Never Trump Movement Leader, Former Jeb Bush S...   \n",
       "18505       71913  104236        Florida Toddler Killed In Drive-By Shooting   \n",
       "\n",
       "               publication          author        date    year  month  \\\n",
       "14448  Talking Points Memo             NaN  2016-01-21  2016.0    1.0   \n",
       "25096      National Review    David French  2016-05-10  2016.0    5.0   \n",
       "24685            Breitbart  Michelle Moons  2016-11-10  2016.0   11.0   \n",
       "11296            Breitbart   Matthew Boyle  2017-04-25  2017.0    4.0   \n",
       "18505        Buzzfeed News      David Mack  2016-01-30  2016.0    1.0   \n",
       "\n",
       "                                                     url  \\\n",
       "14448  https://web.archive.org/web/20160122030840/htt...   \n",
       "25096  http://www.nationalreview.com/article/435194/n...   \n",
       "24685                                                NaN   \n",
       "11296                                                NaN   \n",
       "18505  https://web.archive.org/web/20160130202804/htt...   \n",
       "\n",
       "                                                 content  \n",
       "14448  Host Larry Wilmore asked on Wednesday night’s ...  \n",
       "25096  These are the days of fear and rage. Depending...  \n",
       "24685  A website and Twitter account have been set up...  \n",
       "11296  A Never Trump movement leader who once blamed ...  \n",
       "18505   A family friend sent me this picture of Aiden...  "
      ]
     },
     "execution_count": 2,
     "metadata": {},
     "output_type": "execute_result"
    }
   ],
   "source": [
    "cutdown = result.sample(frac = 0.13)\n",
    "cutdown.head()"
   ]
  },
  {
   "cell_type": "code",
   "execution_count": 3,
   "metadata": {},
   "outputs": [
    {
     "name": "stdout",
     "output_type": "stream",
     "text": [
      "(18534, 10)\n",
      "(18534, 3)\n"
     ]
    },
    {
     "data": {
      "text/plain": [
       "array(['Talking Points Memo', 'National Review', 'Breitbart',\n",
       "       'Buzzfeed News', 'New York Post', 'Washington Post', 'Reuters',\n",
       "       'Fox News', 'Business Insider', 'Atlantic', 'New York Times',\n",
       "       'NPR', 'CNN', 'Vox', 'Guardian'], dtype=object)"
      ]
     },
     "execution_count": 3,
     "metadata": {},
     "output_type": "execute_result"
    }
   ],
   "source": [
    "print(cutdown.shape)\n",
    "cutdownMore = cutdown[['title', 'publication', 'content']]\n",
    "cutdownMore.head()\n",
    "print(cutdownMore.shape)\n",
    "\n",
    "cutdownMore.publication.unique()"
   ]
  },
  {
   "cell_type": "code",
   "execution_count": 4,
   "metadata": {},
   "outputs": [
    {
     "name": "stderr",
     "output_type": "stream",
     "text": [
      "C:\\Users\\achen\\AppData\\Local\\Temp\\ipykernel_7344\\1001446617.py:13: SettingWithCopyWarning: \n",
      "A value is trying to be set on a copy of a slice from a DataFrame.\n",
      "Try using .loc[row_indexer,col_indexer] = value instead\n",
      "\n",
      "See the caveats in the documentation: https://pandas.pydata.org/pandas-docs/stable/user_guide/indexing.html#returning-a-view-versus-a-copy\n",
      "  cutdownMore['Bias'] = biasCounts\n"
     ]
    }
   ],
   "source": [
    "# LEFT MOST 1 2 3 4 5 RIGHT MOST\n",
    "biasDict = {'New York Times': 2 , 'Fox News' : 4, 'Washington Post':3, 'CNN':1,\n",
    "       'Breitbart':5, 'Talking Points Memo':2, 'NPR':3, 'National Review':4,\n",
    "       'Reuters':3, 'Vox':5, 'Business Insider':2, 'New York Post':5,\n",
    "       'Buzzfeed News':1, 'Atlantic':2, 'Guardian':2}\n",
    "# cutdownMore['Bias Amount'] = biasDict.get(cutdownMore['publication'])\n",
    "\n",
    "biasCounts = []\n",
    "\n",
    "for i in cutdownMore[\"publication\"]:\n",
    "    biasCounts.append(biasDict.get(i))\n",
    "\n",
    "cutdownMore['Bias'] = biasCounts"
   ]
  },
  {
   "cell_type": "code",
   "execution_count": 22,
   "metadata": {},
   "outputs": [
    {
     "name": "stdout",
     "output_type": "stream",
     "text": [
      "(18534, 4)\n",
      "       Bias                                              title  \\\n",
      "14448   NaN  ’Nightly Show’ Asks If Sarah Palin Was Drunk D...   \n",
      "25096   NaN  NR Answers Rage with Reason and Fear with Courage   \n",
      "24685   NaN  Donald Trump’s Team Rolls Out Transition Websi...   \n",
      "11296   NaN  Never Trump Movement Leader, Former Jeb Bush S...   \n",
      "18505   NaN        Florida Toddler Killed In Drive-By Shooting   \n",
      "...     ...                                                ...   \n",
      "18628   NaN    Homeland Security not targeting Dreamers: Kelly   \n",
      "30573   NaN  John Bolton: ‘I Have This Sick Feeling in My S...   \n",
      "19230   NaN  Times Square mayhem raises question about rece...   \n",
      "4319    NaN                               The Missing 28 Pages   \n",
      "35739   NaN  Uber CEO takes leave of absence amid sexual ha...   \n",
      "\n",
      "               publication                                            content  \n",
      "14448  Talking Points Memo  Host Larry Wilmore asked on Wednesday night’s ...  \n",
      "25096      National Review  These are the days of fear and rage. Depending...  \n",
      "24685            Breitbart  A website and Twitter account have been set up...  \n",
      "11296            Breitbart  A Never Trump movement leader who once blamed ...  \n",
      "18505        Buzzfeed News   A family friend sent me this picture of Aiden...  \n",
      "...                    ...                                                ...  \n",
      "18628              Reuters   The Department of Homeland Security will not ...  \n",
      "30573            Breitbart  “President Obama is going to Hiroshima. Do you...  \n",
      "19230              Reuters   The mayhem and death left in the trail of a c...  \n",
      "4319              Atlantic     I want to receive updates from partners and...  \n",
      "35739        New York Post  Uber CEO and   Travis Kalanick said Tuesday he...  \n",
      "\n",
      "[18534 rows x 4 columns]\n"
     ]
    }
   ],
   "source": [
    "\n",
    "columns_titles = ['Bias','title', 'publication', 'content']\n",
    "cutdownMore=cutdownMore.reindex(columns=columns_titles)\n",
    "\n",
    "cutdownMore[cutdownMore['Bias'].apply(lambda x: str(x).isdigit())]\n",
    "\n",
    "print(cutdownMore.shape)\n",
    "\n",
    "print(cutdownMore)\n",
    "\n"
   ]
  }
 ],
 "metadata": {
  "interpreter": {
   "hash": "080bab3ba43cee90f328ebcf3c6450611d973b0d938e0021b51ef14fe134596a"
  },
  "kernelspec": {
   "display_name": "Python 3.9.12 ('codeDay2022')",
   "language": "python",
   "name": "python3"
  },
  "language_info": {
   "codemirror_mode": {
    "name": "ipython",
    "version": 3
   },
   "file_extension": ".py",
   "mimetype": "text/x-python",
   "name": "python",
   "nbconvert_exporter": "python",
   "pygments_lexer": "ipython3",
   "version": "3.9.12"
  },
  "orig_nbformat": 4
 },
 "nbformat": 4,
 "nbformat_minor": 2
}
