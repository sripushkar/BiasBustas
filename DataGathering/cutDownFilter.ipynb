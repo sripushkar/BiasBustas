{
 "cells": [
  {
   "cell_type": "code",
   "execution_count": 54,
   "metadata": {},
   "outputs": [],
   "source": [
    "import pandas as pd\n",
    "import numpy as np\n",
    "import random\n",
    "\n",
    "df1 = pd.read_csv(\"cutDownCSV.csv\")\n",
    "df1.head()\n",
    "df1 = df1.iloc[: , 1:]\n"
   ]
  },
  {
   "cell_type": "code",
   "execution_count": 56,
   "metadata": {},
   "outputs": [
    {
     "data": {
      "text/html": [
       "<div>\n",
       "<style scoped>\n",
       "    .dataframe tbody tr th:only-of-type {\n",
       "        vertical-align: middle;\n",
       "    }\n",
       "\n",
       "    .dataframe tbody tr th {\n",
       "        vertical-align: top;\n",
       "    }\n",
       "\n",
       "    .dataframe thead th {\n",
       "        text-align: right;\n",
       "    }\n",
       "</style>\n",
       "<table border=\"1\" class=\"dataframe\">\n",
       "  <thead>\n",
       "    <tr style=\"text-align: right;\">\n",
       "      <th></th>\n",
       "      <th>bias</th>\n",
       "      <th>title</th>\n",
       "      <th>publication</th>\n",
       "      <th>content</th>\n",
       "    </tr>\n",
       "  </thead>\n",
       "  <tbody>\n",
       "    <tr>\n",
       "      <th>0</th>\n",
       "      <td>2</td>\n",
       "      <td>’Nightly Show’ Asks If Sarah Palin Was Drunk D...</td>\n",
       "      <td>Talking Points Memo</td>\n",
       "      <td>Host Larry Wilmore asked on Wednesday night’s ...</td>\n",
       "    </tr>\n",
       "    <tr>\n",
       "      <th>1</th>\n",
       "      <td>4</td>\n",
       "      <td>NR Answers Rage with Reason and Fear with Courage</td>\n",
       "      <td>National Review</td>\n",
       "      <td>These are the days of fear and rage. Depending...</td>\n",
       "    </tr>\n",
       "    <tr>\n",
       "      <th>2</th>\n",
       "      <td>5</td>\n",
       "      <td>Donald Trump’s Team Rolls Out Transition Websi...</td>\n",
       "      <td>Breitbart</td>\n",
       "      <td>A website and Twitter account have been set up...</td>\n",
       "    </tr>\n",
       "    <tr>\n",
       "      <th>3</th>\n",
       "      <td>5</td>\n",
       "      <td>Never Trump Movement Leader, Former Jeb Bush S...</td>\n",
       "      <td>Breitbart</td>\n",
       "      <td>A Never Trump movement leader who once blamed ...</td>\n",
       "    </tr>\n",
       "    <tr>\n",
       "      <th>4</th>\n",
       "      <td>1</td>\n",
       "      <td>Florida Toddler Killed In Drive-By Shooting</td>\n",
       "      <td>Buzzfeed News</td>\n",
       "      <td>A family friend sent me this picture of Aiden...</td>\n",
       "    </tr>\n",
       "  </tbody>\n",
       "</table>\n",
       "</div>"
      ],
      "text/plain": [
       "   bias                                              title  \\\n",
       "0     2  ’Nightly Show’ Asks If Sarah Palin Was Drunk D...   \n",
       "1     4  NR Answers Rage with Reason and Fear with Courage   \n",
       "2     5  Donald Trump’s Team Rolls Out Transition Websi...   \n",
       "3     5  Never Trump Movement Leader, Former Jeb Bush S...   \n",
       "4     1        Florida Toddler Killed In Drive-By Shooting   \n",
       "\n",
       "           publication                                            content  \n",
       "0  Talking Points Memo  Host Larry Wilmore asked on Wednesday night’s ...  \n",
       "1      National Review  These are the days of fear and rage. Depending...  \n",
       "2            Breitbart  A website and Twitter account have been set up...  \n",
       "3            Breitbart  A Never Trump movement leader who once blamed ...  \n",
       "4        Buzzfeed News   A family friend sent me this picture of Aiden...  "
      ]
     },
     "execution_count": 56,
     "metadata": {},
     "output_type": "execute_result"
    }
   ],
   "source": [
    "bias = [1,2,3,4,5]\n",
    "df1[df1[\"bias\"].apply(lambda x: x in bias)]\n",
    "df1[df1[\"bias\"].apply(lambda x: len(str(x))<2)]\n",
    "\n",
    "\n",
    "df1.head()"
   ]
  },
  {
   "cell_type": "code",
   "execution_count": 58,
   "metadata": {},
   "outputs": [
    {
     "name": "stdout",
     "output_type": "stream",
     "text": [
      "(18534, 4)\n"
     ]
    }
   ],
   "source": [
    "print(df1.shape)\n",
    "df1.to_csv(\"filteredData1.csv\", header = False, index = False)\n"
   ]
  }
 ],
 "metadata": {
  "interpreter": {
   "hash": "080bab3ba43cee90f328ebcf3c6450611d973b0d938e0021b51ef14fe134596a"
  },
  "kernelspec": {
   "display_name": "Python 3.9.12 ('codeDay2022')",
   "language": "python",
   "name": "python3"
  },
  "language_info": {
   "codemirror_mode": {
    "name": "ipython",
    "version": 3
   },
   "file_extension": ".py",
   "mimetype": "text/x-python",
   "name": "python",
   "nbconvert_exporter": "python",
   "pygments_lexer": "ipython3",
   "version": "3.9.12"
  },
  "orig_nbformat": 4
 },
 "nbformat": 4,
 "nbformat_minor": 2
}
