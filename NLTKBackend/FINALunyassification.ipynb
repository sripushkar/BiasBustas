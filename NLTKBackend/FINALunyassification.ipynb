{
 "cells": [
  {
   "cell_type": "code",
   "execution_count": 15,
   "metadata": {},
   "outputs": [],
   "source": [
    "import numpy as np\n",
    "from sklearn.naive_bayes import MultinomialNB\n",
    "from sklearn.feature_extraction.text import CountVectorizer\n",
    "import pandas as pd\n",
    "from sklearn.svm import SVC\n",
    "from collections import Counter\n",
    "from sklearn.model_selection import train_test_split\n",
    "from sklearn.feature_extraction.text import TfidfTransformer\n",
    "import pickle\n",
    "\n",
    "\n",
    "\n"
   ]
  },
  {
   "cell_type": "code",
   "execution_count": 25,
   "metadata": {},
   "outputs": [
    {
     "name": "stdout",
     "output_type": "stream",
     "text": [
      "(6746, 77355)\n"
     ]
    }
   ],
   "source": [
    "with open('model63per.pkl', 'rb') as f:\n",
    "    clf2 = pickle.load(f)\n",
    "\n",
    "df = pd.read_csv(\"testData.csv\")\n",
    "\n",
    "content_list = df['content'].tolist()\n",
    "bias_list = df['bias'].tolist()\n",
    "\n",
    "count_vect = CountVectorizer()\n",
    "x_train_counts = count_vect.fit_transform(content_list)\n",
    "\n",
    "tfidf_transformer = TfidfTransformer()\n",
    "x_train_tfidf = tfidf_transformer.fit_transform(x_train_counts)\n",
    "\n",
    "print(x_train_tfidf.shape)\n"
   ]
  },
  {
   "cell_type": "code",
   "execution_count": 22,
   "metadata": {},
   "outputs": [
    {
     "ename": "ValueError",
     "evalue": "X has 91 features, but SVC is expecting 77438 features as input.",
     "output_type": "error",
     "traceback": [
      "\u001b[1;31m---------------------------------------------------------------------------\u001b[0m",
      "\u001b[1;31mValueError\u001b[0m                                Traceback (most recent call last)",
      "\u001b[1;32mc:\\Users\\achen\\Documents\\GitHub\\BiasBustas\\NLTKBackend\\FINALunyassification.ipynb Cell 3'\u001b[0m in \u001b[0;36m<cell line: 1>\u001b[1;34m()\u001b[0m\n\u001b[1;32m----> <a href='vscode-notebook-cell:/c%3A/Users/achen/Documents/GitHub/BiasBustas/NLTKBackend/FINALunyassification.ipynb#ch0000002?line=0'>1</a>\u001b[0m bias \u001b[39m=\u001b[39m clf2\u001b[39m.\u001b[39;49mpredict(findBias)\n\u001b[0;32m      <a href='vscode-notebook-cell:/c%3A/Users/achen/Documents/GitHub/BiasBustas/NLTKBackend/FINALunyassification.ipynb#ch0000002?line=1'>2</a>\u001b[0m \u001b[39mprint\u001b[39m(bias)\n",
      "File \u001b[1;32mc:\\Users\\achen\\anaconda3\\envs\\codeDay2022\\lib\\site-packages\\sklearn\\svm\\_base.py:810\u001b[0m, in \u001b[0;36mBaseSVC.predict\u001b[1;34m(self, X)\u001b[0m\n\u001b[0;32m    <a href='file:///c%3A/Users/achen/anaconda3/envs/codeDay2022/lib/site-packages/sklearn/svm/_base.py?line=807'>808</a>\u001b[0m     y \u001b[39m=\u001b[39m np\u001b[39m.\u001b[39margmax(\u001b[39mself\u001b[39m\u001b[39m.\u001b[39mdecision_function(X), axis\u001b[39m=\u001b[39m\u001b[39m1\u001b[39m)\n\u001b[0;32m    <a href='file:///c%3A/Users/achen/anaconda3/envs/codeDay2022/lib/site-packages/sklearn/svm/_base.py?line=808'>809</a>\u001b[0m \u001b[39melse\u001b[39;00m:\n\u001b[1;32m--> <a href='file:///c%3A/Users/achen/anaconda3/envs/codeDay2022/lib/site-packages/sklearn/svm/_base.py?line=809'>810</a>\u001b[0m     y \u001b[39m=\u001b[39m \u001b[39msuper\u001b[39;49m()\u001b[39m.\u001b[39;49mpredict(X)\n\u001b[0;32m    <a href='file:///c%3A/Users/achen/anaconda3/envs/codeDay2022/lib/site-packages/sklearn/svm/_base.py?line=810'>811</a>\u001b[0m \u001b[39mreturn\u001b[39;00m \u001b[39mself\u001b[39m\u001b[39m.\u001b[39mclasses_\u001b[39m.\u001b[39mtake(np\u001b[39m.\u001b[39masarray(y, dtype\u001b[39m=\u001b[39mnp\u001b[39m.\u001b[39mintp))\n",
      "File \u001b[1;32mc:\\Users\\achen\\anaconda3\\envs\\codeDay2022\\lib\\site-packages\\sklearn\\svm\\_base.py:433\u001b[0m, in \u001b[0;36mBaseLibSVM.predict\u001b[1;34m(self, X)\u001b[0m\n\u001b[0;32m    <a href='file:///c%3A/Users/achen/anaconda3/envs/codeDay2022/lib/site-packages/sklearn/svm/_base.py?line=416'>417</a>\u001b[0m \u001b[39mdef\u001b[39;00m \u001b[39mpredict\u001b[39m(\u001b[39mself\u001b[39m, X):\n\u001b[0;32m    <a href='file:///c%3A/Users/achen/anaconda3/envs/codeDay2022/lib/site-packages/sklearn/svm/_base.py?line=417'>418</a>\u001b[0m     \u001b[39m\"\"\"Perform regression on samples in X.\u001b[39;00m\n\u001b[0;32m    <a href='file:///c%3A/Users/achen/anaconda3/envs/codeDay2022/lib/site-packages/sklearn/svm/_base.py?line=418'>419</a>\u001b[0m \n\u001b[0;32m    <a href='file:///c%3A/Users/achen/anaconda3/envs/codeDay2022/lib/site-packages/sklearn/svm/_base.py?line=419'>420</a>\u001b[0m \u001b[39m    For an one-class model, +1 (inlier) or -1 (outlier) is returned.\u001b[39;00m\n\u001b[1;32m   (...)\u001b[0m\n\u001b[0;32m    <a href='file:///c%3A/Users/achen/anaconda3/envs/codeDay2022/lib/site-packages/sklearn/svm/_base.py?line=430'>431</a>\u001b[0m \u001b[39m        The predicted values.\u001b[39;00m\n\u001b[0;32m    <a href='file:///c%3A/Users/achen/anaconda3/envs/codeDay2022/lib/site-packages/sklearn/svm/_base.py?line=431'>432</a>\u001b[0m \u001b[39m    \"\"\"\u001b[39;00m\n\u001b[1;32m--> <a href='file:///c%3A/Users/achen/anaconda3/envs/codeDay2022/lib/site-packages/sklearn/svm/_base.py?line=432'>433</a>\u001b[0m     X \u001b[39m=\u001b[39m \u001b[39mself\u001b[39;49m\u001b[39m.\u001b[39;49m_validate_for_predict(X)\n\u001b[0;32m    <a href='file:///c%3A/Users/achen/anaconda3/envs/codeDay2022/lib/site-packages/sklearn/svm/_base.py?line=433'>434</a>\u001b[0m     predict \u001b[39m=\u001b[39m \u001b[39mself\u001b[39m\u001b[39m.\u001b[39m_sparse_predict \u001b[39mif\u001b[39;00m \u001b[39mself\u001b[39m\u001b[39m.\u001b[39m_sparse \u001b[39melse\u001b[39;00m \u001b[39mself\u001b[39m\u001b[39m.\u001b[39m_dense_predict\n\u001b[0;32m    <a href='file:///c%3A/Users/achen/anaconda3/envs/codeDay2022/lib/site-packages/sklearn/svm/_base.py?line=434'>435</a>\u001b[0m     \u001b[39mreturn\u001b[39;00m predict(X)\n",
      "File \u001b[1;32mc:\\Users\\achen\\anaconda3\\envs\\codeDay2022\\lib\\site-packages\\sklearn\\svm\\_base.py:611\u001b[0m, in \u001b[0;36mBaseLibSVM._validate_for_predict\u001b[1;34m(self, X)\u001b[0m\n\u001b[0;32m    <a href='file:///c%3A/Users/achen/anaconda3/envs/codeDay2022/lib/site-packages/sklearn/svm/_base.py?line=607'>608</a>\u001b[0m check_is_fitted(\u001b[39mself\u001b[39m)\n\u001b[0;32m    <a href='file:///c%3A/Users/achen/anaconda3/envs/codeDay2022/lib/site-packages/sklearn/svm/_base.py?line=609'>610</a>\u001b[0m \u001b[39mif\u001b[39;00m \u001b[39mnot\u001b[39;00m callable(\u001b[39mself\u001b[39m\u001b[39m.\u001b[39mkernel):\n\u001b[1;32m--> <a href='file:///c%3A/Users/achen/anaconda3/envs/codeDay2022/lib/site-packages/sklearn/svm/_base.py?line=610'>611</a>\u001b[0m     X \u001b[39m=\u001b[39m \u001b[39mself\u001b[39;49m\u001b[39m.\u001b[39;49m_validate_data(\n\u001b[0;32m    <a href='file:///c%3A/Users/achen/anaconda3/envs/codeDay2022/lib/site-packages/sklearn/svm/_base.py?line=611'>612</a>\u001b[0m         X,\n\u001b[0;32m    <a href='file:///c%3A/Users/achen/anaconda3/envs/codeDay2022/lib/site-packages/sklearn/svm/_base.py?line=612'>613</a>\u001b[0m         accept_sparse\u001b[39m=\u001b[39;49m\u001b[39m\"\u001b[39;49m\u001b[39mcsr\u001b[39;49m\u001b[39m\"\u001b[39;49m,\n\u001b[0;32m    <a href='file:///c%3A/Users/achen/anaconda3/envs/codeDay2022/lib/site-packages/sklearn/svm/_base.py?line=613'>614</a>\u001b[0m         dtype\u001b[39m=\u001b[39;49mnp\u001b[39m.\u001b[39;49mfloat64,\n\u001b[0;32m    <a href='file:///c%3A/Users/achen/anaconda3/envs/codeDay2022/lib/site-packages/sklearn/svm/_base.py?line=614'>615</a>\u001b[0m         order\u001b[39m=\u001b[39;49m\u001b[39m\"\u001b[39;49m\u001b[39mC\u001b[39;49m\u001b[39m\"\u001b[39;49m,\n\u001b[0;32m    <a href='file:///c%3A/Users/achen/anaconda3/envs/codeDay2022/lib/site-packages/sklearn/svm/_base.py?line=615'>616</a>\u001b[0m         accept_large_sparse\u001b[39m=\u001b[39;49m\u001b[39mFalse\u001b[39;49;00m,\n\u001b[0;32m    <a href='file:///c%3A/Users/achen/anaconda3/envs/codeDay2022/lib/site-packages/sklearn/svm/_base.py?line=616'>617</a>\u001b[0m         reset\u001b[39m=\u001b[39;49m\u001b[39mFalse\u001b[39;49;00m,\n\u001b[0;32m    <a href='file:///c%3A/Users/achen/anaconda3/envs/codeDay2022/lib/site-packages/sklearn/svm/_base.py?line=617'>618</a>\u001b[0m     )\n\u001b[0;32m    <a href='file:///c%3A/Users/achen/anaconda3/envs/codeDay2022/lib/site-packages/sklearn/svm/_base.py?line=619'>620</a>\u001b[0m \u001b[39mif\u001b[39;00m \u001b[39mself\u001b[39m\u001b[39m.\u001b[39m_sparse \u001b[39mand\u001b[39;00m \u001b[39mnot\u001b[39;00m sp\u001b[39m.\u001b[39misspmatrix(X):\n\u001b[0;32m    <a href='file:///c%3A/Users/achen/anaconda3/envs/codeDay2022/lib/site-packages/sklearn/svm/_base.py?line=620'>621</a>\u001b[0m     X \u001b[39m=\u001b[39m sp\u001b[39m.\u001b[39mcsr_matrix(X)\n",
      "File \u001b[1;32mc:\\Users\\achen\\anaconda3\\envs\\codeDay2022\\lib\\site-packages\\sklearn\\base.py:600\u001b[0m, in \u001b[0;36mBaseEstimator._validate_data\u001b[1;34m(self, X, y, reset, validate_separately, **check_params)\u001b[0m\n\u001b[0;32m    <a href='file:///c%3A/Users/achen/anaconda3/envs/codeDay2022/lib/site-packages/sklearn/base.py?line=596'>597</a>\u001b[0m     out \u001b[39m=\u001b[39m X, y\n\u001b[0;32m    <a href='file:///c%3A/Users/achen/anaconda3/envs/codeDay2022/lib/site-packages/sklearn/base.py?line=598'>599</a>\u001b[0m \u001b[39mif\u001b[39;00m \u001b[39mnot\u001b[39;00m no_val_X \u001b[39mand\u001b[39;00m check_params\u001b[39m.\u001b[39mget(\u001b[39m\"\u001b[39m\u001b[39mensure_2d\u001b[39m\u001b[39m\"\u001b[39m, \u001b[39mTrue\u001b[39;00m):\n\u001b[1;32m--> <a href='file:///c%3A/Users/achen/anaconda3/envs/codeDay2022/lib/site-packages/sklearn/base.py?line=599'>600</a>\u001b[0m     \u001b[39mself\u001b[39;49m\u001b[39m.\u001b[39;49m_check_n_features(X, reset\u001b[39m=\u001b[39;49mreset)\n\u001b[0;32m    <a href='file:///c%3A/Users/achen/anaconda3/envs/codeDay2022/lib/site-packages/sklearn/base.py?line=601'>602</a>\u001b[0m \u001b[39mreturn\u001b[39;00m out\n",
      "File \u001b[1;32mc:\\Users\\achen\\anaconda3\\envs\\codeDay2022\\lib\\site-packages\\sklearn\\base.py:400\u001b[0m, in \u001b[0;36mBaseEstimator._check_n_features\u001b[1;34m(self, X, reset)\u001b[0m\n\u001b[0;32m    <a href='file:///c%3A/Users/achen/anaconda3/envs/codeDay2022/lib/site-packages/sklearn/base.py?line=396'>397</a>\u001b[0m     \u001b[39mreturn\u001b[39;00m\n\u001b[0;32m    <a href='file:///c%3A/Users/achen/anaconda3/envs/codeDay2022/lib/site-packages/sklearn/base.py?line=398'>399</a>\u001b[0m \u001b[39mif\u001b[39;00m n_features \u001b[39m!=\u001b[39m \u001b[39mself\u001b[39m\u001b[39m.\u001b[39mn_features_in_:\n\u001b[1;32m--> <a href='file:///c%3A/Users/achen/anaconda3/envs/codeDay2022/lib/site-packages/sklearn/base.py?line=399'>400</a>\u001b[0m     \u001b[39mraise\u001b[39;00m \u001b[39mValueError\u001b[39;00m(\n\u001b[0;32m    <a href='file:///c%3A/Users/achen/anaconda3/envs/codeDay2022/lib/site-packages/sklearn/base.py?line=400'>401</a>\u001b[0m         \u001b[39mf\u001b[39m\u001b[39m\"\u001b[39m\u001b[39mX has \u001b[39m\u001b[39m{\u001b[39;00mn_features\u001b[39m}\u001b[39;00m\u001b[39m features, but \u001b[39m\u001b[39m{\u001b[39;00m\u001b[39mself\u001b[39m\u001b[39m.\u001b[39m\u001b[39m__class__\u001b[39m\u001b[39m.\u001b[39m\u001b[39m__name__\u001b[39m\u001b[39m}\u001b[39;00m\u001b[39m \u001b[39m\u001b[39m\"\u001b[39m\n\u001b[0;32m    <a href='file:///c%3A/Users/achen/anaconda3/envs/codeDay2022/lib/site-packages/sklearn/base.py?line=401'>402</a>\u001b[0m         \u001b[39mf\u001b[39m\u001b[39m\"\u001b[39m\u001b[39mis expecting \u001b[39m\u001b[39m{\u001b[39;00m\u001b[39mself\u001b[39m\u001b[39m.\u001b[39mn_features_in_\u001b[39m}\u001b[39;00m\u001b[39m features as input.\u001b[39m\u001b[39m\"\u001b[39m\n\u001b[0;32m    <a href='file:///c%3A/Users/achen/anaconda3/envs/codeDay2022/lib/site-packages/sklearn/base.py?line=402'>403</a>\u001b[0m     )\n",
      "\u001b[1;31mValueError\u001b[0m: X has 91 features, but SVC is expecting 77438 features as input."
     ]
    }
   ],
   "source": [
    "bias = clf2.predict(findBias)\n",
    "print(bias)"
   ]
  }
 ],
 "metadata": {
  "interpreter": {
   "hash": "080bab3ba43cee90f328ebcf3c6450611d973b0d938e0021b51ef14fe134596a"
  },
  "kernelspec": {
   "display_name": "Python 3.9.12 ('codeDay2022')",
   "language": "python",
   "name": "python3"
  },
  "language_info": {
   "codemirror_mode": {
    "name": "ipython",
    "version": 3
   },
   "file_extension": ".py",
   "mimetype": "text/x-python",
   "name": "python",
   "nbconvert_exporter": "python",
   "pygments_lexer": "ipython3",
   "version": "3.9.12"
  },
  "orig_nbformat": 4
 },
 "nbformat": 4,
 "nbformat_minor": 2
}
