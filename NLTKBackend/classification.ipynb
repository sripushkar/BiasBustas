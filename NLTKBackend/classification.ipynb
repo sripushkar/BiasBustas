{
 "cells": [
  {
   "cell_type": "code",
   "execution_count": 1,
   "metadata": {},
   "outputs": [
    {
     "name": "stderr",
     "output_type": "stream",
     "text": [
      "[nltk_data] Downloading package stopwords to\n",
      "[nltk_data]     C:\\Users\\achen\\AppData\\Roaming\\nltk_data...\n",
      "[nltk_data]   Unzipping corpora\\stopwords.zip.\n"
     ]
    }
   ],
   "source": [
    "import pandas as pd\n",
    "import numpy as np\n",
    "\n",
    "import nltk\n",
    "from nltk.tokenize import sent_tokenize, word_tokenize\n",
    "nltk.download(\"stopwords\")\n",
    "from nltk.corpus import stopwords\n",
    "from nltk.tokenize import word_tokenize\n",
    "from nltk.stem import PorterStemmer\n",
    "from nltk.tokenize import word_tokenize\n",
    "\n",
    "\n"
   ]
  },
  {
   "cell_type": "code",
   "execution_count": 3,
   "metadata": {},
   "outputs": [],
   "source": [
    "# df = pd.read_csv(\"articles.csv\", header = 0)\n",
    "# input = df.iloc[:, 2]\n",
    "# labels = df.iloc[:, 0]"
   ]
  },
  {
   "cell_type": "code",
   "execution_count": 5,
   "metadata": {},
   "outputs": [
    {
     "data": {
      "text/plain": [
       "['\\nOne of the Chicago thugs   posted a violent YouTube video two months beforehand, in which he swings a rifle and drawls, â€œBoom!',\n",
       " 'Put a bullet in ya ass!â€\\x9d Tesfaye Cooper, 18,   under the name PBG HotHead, a reference to the North Side,   â€œPooh Bear Gang.',\n",
       " 'â€\\x9d â€œYeah, Boom!',\n",
       " 'Smoke yo ass,â€\\x9d he says in the nearly incoherent clip.',\n",
       " 'â€œDamn!',\n",
       " 'Big ass bitch ass nâˆ’âˆ’a   â€¦     Boom!',\n",
       " 'Put a bullet in ya ass!â€\\x9d Police say Cooper starred in his next video  â€”   the racially charged, livestreamed torture of an Illinois teen  â€”   earlier this week, along with fellow Chicagoans Jordan Hill, 18, Tanishia Covington, 24, and Brittany Covington, 18.',\n",
       " 'The four, who are black, are charged with a hate crime in that incident and are due to make their first court appearance Friday afternoon.',\n",
       " 'The victim is white.',\n",
       " 'â€œFâˆ’âˆ’k Donald Trump, nâˆ’âˆ’a, fâˆ’âˆ’k white people!â€\\x9d one of the suspects can be heard telling the teen victim in the video, which was streaming on Facebook Live for roughly 30 minutes.',\n",
       " 'One of them also urges the victim to say, â€œI love black people.',\n",
       " 'â€\\x9d Another video shows the victim being forced to drink toilet water.',\n",
       " 'An online GoFundMe effort titled â€œLetâ€™s show the Chicago victim Loveâ€\\x9d has raised more than $50, 000.']"
      ]
     },
     "execution_count": 5,
     "metadata": {},
     "output_type": "execute_result"
    }
   ],
   "source": [
    "example_string  = \"\"\"\n",
    "One of the Chicago thugs   posted a violent YouTube video two months beforehand, in which he swings a rifle and drawls, â€œBoom! Put a bullet in ya ass!â€ Tesfaye Cooper, 18,   under the name PBG HotHead, a reference to the North Side,   â€œPooh Bear Gang. â€ â€œYeah, Boom! Smoke yo ass,â€ he says in the nearly incoherent clip. â€œDamn! Big ass bitch ass nâˆ’âˆ’a   â€¦     Boom! Put a bullet in ya ass!â€ Police say Cooper starred in his next video  â€”   the racially charged, livestreamed torture of an Illinois teen  â€”   earlier this week, along with fellow Chicagoans Jordan Hill, 18, Tanishia Covington, 24, and Brittany Covington, 18. The four, who are black, are charged with a hate crime in that incident and are due to make their first court appearance Friday afternoon. The victim is white. â€œFâˆ’âˆ’k Donald Trump, nâˆ’âˆ’a, fâˆ’âˆ’k white people!â€ one of the suspects can be heard telling the teen victim in the video, which was streaming on Facebook Live for roughly 30 minutes. One of them also urges the victim to say, â€œI love black people. â€ Another video shows the victim being forced to drink toilet water. An online GoFundMe effort titled â€œLetâ€™s show the Chicago victim Loveâ€ has raised more than $50, 000.\n",
    "\"\"\"\n",
    "\n",
    "sent_tokenize(example_string)"
   ]
  },
  {
   "cell_type": "code",
   "execution_count": null,
   "metadata": {},
   "outputs": [],
   "source": [
    "stemmer = PorterStemmer()\n"
   ]
  }
 ],
 "metadata": {
  "interpreter": {
   "hash": "080bab3ba43cee90f328ebcf3c6450611d973b0d938e0021b51ef14fe134596a"
  },
  "kernelspec": {
   "display_name": "Python 3.9.12 ('codeDay2022')",
   "language": "python",
   "name": "python3"
  },
  "language_info": {
   "codemirror_mode": {
    "name": "ipython",
    "version": 3
   },
   "file_extension": ".py",
   "mimetype": "text/x-python",
   "name": "python",
   "nbconvert_exporter": "python",
   "pygments_lexer": "ipython3",
   "version": "3.9.12"
  },
  "orig_nbformat": 4
 },
 "nbformat": 4,
 "nbformat_minor": 2
}
