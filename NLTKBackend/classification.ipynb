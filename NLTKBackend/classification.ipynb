{
 "cells": [
  {
   "cell_type": "code",
   "execution_count": 1,
   "metadata": {},
   "outputs": [
    {
     "name": "stderr",
     "output_type": "stream",
     "text": [
      "[nltk_data] Downloading package stopwords to\n",
      "[nltk_data]     C:\\Users\\achen\\AppData\\Roaming\\nltk_data...\n",
      "[nltk_data]   Unzipping corpora\\stopwords.zip.\n"
     ]
    }
   ],
   "source": [
    "import pandas as pd\n",
    "import numpy as np\n",
    "\n",
    "import nltk\n",
    "from nltk.tokenize import sent_tokenize, word_tokenize\n",
    "nltk.download(\"stopwords\")\n",
    "from nltk.corpus import stopwords\n",
    "from nltk.tokenize import word_tokenize\n",
    "from nltk.stem import PorterStemmer\n",
    "from nltk.tokenize import word_tokenize\n",
    "\n",
    "\n"
   ]
  },
  {
   "cell_type": "code",
   "execution_count": 12,
   "metadata": {},
   "outputs": [
    {
     "data": {
      "text/plain": [
       "0         On Friday, a slew of alarming headlines e...\n",
       "1    PASADENA, Calif.  —   Jacqueline Kennedy Onass...\n",
       "2    Amid the rioting in Milwaukee, there is also a...\n",
       "3    ’’ ”Silicon Valley billionaire Peter Thiel is ...\n",
       "4    To revisit the box office numbers for 1988 is ...\n",
       "Name: One of the Chicago thugs   posted a violent YouTube video two months beforehand, in which he swings a rifle and drawls, “Boom! Put a bullet in ya ass!” Tesfaye Cooper, 18,   under the name PBG HotHead, a reference to the North Side,   “Pooh Bear Gang. ” “Yeah, Boom! Smoke yo ass,” he says in the nearly incoherent clip. “Damn! Big ass bitch ass n−−a   …     Boom! Put a bullet in ya ass!” Police say Cooper starred in his next video  —   the racially charged, livestreamed torture of an Illinois teen  —   earlier this week, along with fellow Chicagoans Jordan Hill, 18, Tanishia Covington, 24, and Brittany Covington, 18. The four, who are black, are charged with a hate crime in that incident and are due to make their first court appearance Friday afternoon. The victim is white. “F−−k Donald Trump, n−−a, f−−k white people!” one of the suspects can be heard telling the teen victim in the video, which was streaming on Facebook Live for roughly 30 minutes. One of them also urges the victim to say, “I love black people. ” Another video shows the victim being forced to drink toilet water. An online GoFundMe effort titled “Let’s show the Chicago victim Love” has raised more than $50, 000., dtype: object"
      ]
     },
     "execution_count": 12,
     "metadata": {},
     "output_type": "execute_result"
    }
   ],
   "source": [
    "df = pd.read_csv(\"filteredData.csv\", header = 0)\n",
    "input = df.iloc[:, 3]\n",
    "labels = df.iloc[:, 0]\n",
    "# input.head()\n",
    "# labels.head()"
   ]
  }
 ],
 "metadata": {
  "interpreter": {
   "hash": "080bab3ba43cee90f328ebcf3c6450611d973b0d938e0021b51ef14fe134596a"
  },
  "kernelspec": {
   "display_name": "Python 3.9.12 ('codeDay2022')",
   "language": "python",
   "name": "python3"
  },
  "language_info": {
   "codemirror_mode": {
    "name": "ipython",
    "version": 3
   },
   "file_extension": ".py",
   "mimetype": "text/x-python",
   "name": "python",
   "nbconvert_exporter": "python",
   "pygments_lexer": "ipython3",
   "version": "3.9.12"
  },
  "orig_nbformat": 4
 },
 "nbformat": 4,
 "nbformat_minor": 2
}
